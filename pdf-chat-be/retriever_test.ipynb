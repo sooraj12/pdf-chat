{
 "cells": [
  {
   "cell_type": "code",
   "execution_count": 64,
   "id": "27bd0bc1-014d-4562-be92-58f7942762f3",
   "metadata": {
    "tags": []
   },
   "outputs": [],
   "source": [
    "docs = [\n",
    "    \"/home/sooraj/Projects/pdf-chat/Tech_Manual_partII_INS_SAMC.pdf\",\n",
    "]"
   ]
  },
  {
   "cell_type": "code",
   "execution_count": 66,
   "id": "018b4ab2-761b-4ef7-9d14-6d29034594cf",
   "metadata": {
    "tags": []
   },
   "outputs": [],
   "source": [
    "from langchain.text_splitter import RecursiveCharacterTextSplitter\n",
    "from langchain_community.document_loaders import PyPDFLoader\n",
    "\n",
    "\n",
    "def load_urls(docs):\n",
    "    docs = [PyPDFLoader(doc, extract_images=True).load() for doc in docs]\n",
    "    docs_list = [item for sublist in docs for item in sublist]\n",
    "    # split documents into chunks\n",
    "    text_splitter = RecursiveCharacterTextSplitter.from_tiktoken_encoder(\n",
    "        chunk_size=250, chunk_overlap=0\n",
    "    )\n",
    "    doc_splits = text_splitter.split_documents(docs_list)\n",
    "    print(\"**************Documents loaded from disk\")\n",
    "\n",
    "    return doc_splits\n"
   ]
  },
  {
   "cell_type": "code",
   "execution_count": 68,
   "id": "ce542783-e03a-47f0-bf5e-1507dd8dc3b1",
   "metadata": {
    "tags": []
   },
   "outputs": [],
   "source": [
    "from langchain_community.vectorstores import Chroma\n",
    "from langchain_community.embeddings import OllamaEmbeddings\n",
    "\n",
    "base_url = 'http://103.47.125.5:6006'\n",
    "# base_url = 'http://192.168.0.216:11434'\n",
    "\n",
    "def setup_retriever(doc_splits):\n",
    "    embedding_model = OllamaEmbeddings(\n",
    "        base_url=base_url, \n",
    "        model=\"nomic-embed-text\"\n",
    "    )\n",
    "    vectorstore = Chroma.from_documents(\n",
    "        documents=doc_splits, collection_name=\"rag-chroma\", embedding=embedding_model\n",
    "    )\n",
    "    retriever = vectorstore.as_retriever()\n",
    "    print(\"**************Setup retriever\")\n",
    "\n",
    "    return retriever"
   ]
  },
  {
   "cell_type": "code",
   "execution_count": 70,
   "id": "fba261f1-37d9-4191-9ee7-dc537492ab19",
   "metadata": {
    "tags": []
   },
   "outputs": [
    {
     "name": "stdout",
     "output_type": "stream",
     "text": [
      "**************Documents loaded from disk\n",
      "[Document(page_content='RESTRICTED  Code No .                  \\nRESTRICTED  THE INFORMATION GIVEN IN THIS DOCUMENT IS NOT TO BE \\nPUBLISHED OR COMMUNICATED EITHER DIRECTLY OR INDIRECTLY \\nTO THE PRESS OR TO ANY PERSON NOT HOLDING AN OFFICIAL \\nPOSTION IN THE SERVICE OF THE GOVERNMENT OF INDIA  \\n \\n \\nTECHNICAL MANUAL  \\nPART NO: II \\nMEMS Inertial Navigation System  \\nTHIS HANDBOOK DOES NOT CONSTITUE AUTHORITY FOR REPAIRS OR \\nREPLACMENT OF COMPONENTS BY USERS REPAIRS BY DIFFERENT AGENCIES \\nWILL ONLY BE CARRIED OUT AS LAID DOWN IN PERMISSIBLE REPAIR \\nSCHEDULES PUBLISHED AS EMERs OR EQUIV ALENT FROM TIME TO TIME.  \\n \\nPrepared & Published by  \\nAERON SYSTEMS PVT.LTD.', metadata={'source': '/home/sooraj/Projects/pdf-chat/Tech_Manual_partII_INS_SAMC.pdf', 'page': 0}), Document(page_content='Under the Authority of Secretary, \\nMinister of Defence, Govt .of India  \\n \\n \\nMonth  and Year : April 2024', metadata={'source': '/home/sooraj/Projects/pdf-chat/Tech_Manual_partII_INS_SAMC.pdf', 'page': 0}), Document(page_content='RESTRICTED  \\n \\nii RECORD OF CHANGES  \\nChange Notice \\nNo. Authority  Name & Rank  Initial with Date', metadata={'source': '/home/sooraj/Projects/pdf-chat/Tech_Manual_partII_INS_SAMC.pdf', 'page': 1}), Document(page_content=\"RESTRICTED  \\n \\niii LIST OF ASSOCIATED HANDBOOKS  \\nTechnical Literature for MEMS INS SYSTEM  \\n(Main Equipment/ System) comprises of the followings:  \\nUSER HANDBOOK AND INSTRUCTIONS FOR INSTALLATION INCLUDING \\nCHECKLIST  \\nTECHNICAL MANUAL  \\nPART I TECHNICAL INFORMATION  \\nV olume 1 Technical Description  \\nV olume 2 Drawings  \\nPART II MAINTENANCE  \\nPART III OVERHAUL AND RECONDITIONING INSTRUCTIONS  \\nPART IV MANUFACTURER'S PARTS LIST  \\nV olume 1 Parts List  \\nV olume 2 Illustrations\", metadata={'source': '/home/sooraj/Projects/pdf-chat/Tech_Manual_partII_INS_SAMC.pdf', 'page': 2}), Document(page_content='RESTRICTED  \\n \\niv  \\n  \\nSAFETYWARNING\\nThevoltagescmployedinthisEquipmentare\\nsufficientlyhightocndangerhumanlife.\\nPOWER\\nMUSTBESWITCHEDOFF\\nbeforeservicingthecquipment\\n&\\nGREATCARE\\ntakenwhcnmakinginternaladjustmentsetc.', metadata={'source': '/home/sooraj/Projects/pdf-chat/Tech_Manual_partII_INS_SAMC.pdf', 'page': 3}), Document(page_content='RESTRICTED  \\n \\nv', metadata={'source': '/home/sooraj/Projects/pdf-chat/Tech_Manual_partII_INS_SAMC.pdf', 'page': 4}), Document(page_content='RESTRICTED  \\n \\nvi  \\nCaution Notes', metadata={'source': '/home/sooraj/Projects/pdf-chat/Tech_Manual_partII_INS_SAMC.pdf', 'page': 5}), Document(page_content='RESTRICTED  \\n \\nvii  \\n  \\nDEMOLITIONOFMATERIALTOPREVENTENEMYUSE\\nGeneral\\n(a\\nThedemolitionprocedureoutlinedbelowwill beusedtoprevent thecncmyfromusingor\\nsalvagingthiscquipment.DEMOLITIONOFTHEEQUIPMENTWILLBEDONEONLY\\nONORDEROFTHECOMMANDER\\nMethodsofDestruction\\n(b)\\nUseanyor all thefollowingmethodstodestroythecquipment.\\n(i)Smash-Smash the Crystals,Controls,Semiconductors,Coils,Switches,Transformers\\nandHeadsets,useSledges,Hand-axes,Pickaxes,Hammerscrowbarsorhcavytools.\\n（ii)Cut-Cut the Cords,Headsets and Wiring:use axes,hand-axcs or hatchets.\\n（ii)Burn-Burn the Cords,Resistors,Capacitors,Coils,Wiring.Technical Manuals,us', metadata={'source': '/home/sooraj/Projects/pdf-chat/Tech_Manual_partII_INS_SAMC.pdf', 'page': 6}), Document(page_content='Gasoline,Kerosene,Oil,FlamethrowcrsorIncendiary.\\n(iv)Bend-Bend thepanels,cabinct and chassis.\\n(v)Explosives -If explosives arenecessary,use firearms,grenades orTNT.\\n(vi)Disposal-Bury or scatter the destroyedparts in slits trenches,fox holes or other\\nholes,or throw theminto strcams.', metadata={'source': '/home/sooraj/Projects/pdf-chat/Tech_Manual_partII_INS_SAMC.pdf', 'page': 6}), Document(page_content='RESTRICTED  \\n \\nviii CHANGE NOTICE  \\nTITLE OF \\nPUBLICATION  CODE No. AND \\nDATE  PREVIOUS \\nCHANGE  CHANGE \\nNOTICE No. AND \\nDATE  \\n    \\n    \\n \\n \\n \\n \\n \\n  \\nNo.of pages:\\nEnclosures:\\nShcets:\\nCODESFORINCORPORATIONOFCHANGES:\\nNOTE:\\n（R)ByReplacemcnt/additionofshect(s)\\nThis documcnt should be\\nfiled/pasted in thc copy of\\n(H)ByHand-corrcction\\nthePublicationbeforcthe\\nCONTENTS Pagc.\\nAfter\\n(P)Bypastingtheenclosedmatter\\ncarrying out （R),（H）or（P）\\ncntryshould be made in\\n(A)Additionalinformation-onlytobefiledinthepublication\\nRccord of ChangesPage.', metadata={'source': '/home/sooraj/Projects/pdf-chat/Tech_Manual_partII_INS_SAMC.pdf', 'page': 7}), Document(page_content='RESTRICTED  \\n \\nix Table of Contents  \\nChapter 1 Inspection and Maintenance Routine  ................................ ................................ ........  1 \\nSection 1 Introduction  ................................ ................................ ................................ ............  1 \\nScope of Manual  ................................ ................................ ................................ ................  1 \\nSection 2 Maintenance Intervals  ................................ ................................ ............................  1 \\nO Level Maintenance (Organization Maintenance)  ................................ ...........................  1 \\nI Level Maintenance (Intermediate Maintenance)  ................................ .............................  2 \\nD Level Maintenance (Depot Maintenance)  ................................ ................................ ...... 2 \\nChapter 2 Chapter II - Test Equipment  ................................ ................................ ......................  5 \\nSection 1 Test Equipment  ................................ ................................ ................................ ...... 5 \\nO-Level Test Equipment (OLTE)  ................................ ................................ .......................  5 \\nI-Level Test Equipment (ILTE)  ................................ ................................ ..........................  5 \\nD-Level Test Equipment  ................................ ................................ ................................ .... 6 \\nSection 2 Manufacturer Recommended List of Spares (MRLS)  ................................ ...........  6', metadata={'source': '/home/sooraj/Projects/pdf-chat/Tech_Manual_partII_INS_SAMC.pdf', 'page': 8}), Document(page_content='Chapter 3 Chapter III - Fault Diagnosis  ................................ ................................ .....................  7 \\nSection 1 Troubleshooting  ................................ ................................ ................................ ..... 7 \\nSection 2 Fault Unit Diagnosis  ................................ ................................ ..............................  8', metadata={'source': '/home/sooraj/Projects/pdf-chat/Tech_Manual_partII_INS_SAMC.pdf', 'page': 8}), Document(page_content='RESTRICTED  \\n \\n1 Chapter 1  Inspection and Maintenance Routine  \\nSection 1  Introduction  \\nAeron Systems is set to supply the MEMS INS with GNSS Antenna to  Cogknit Semantics Ltd. \\n(Cogknit).  The MEMS INS model OCT -2 NS7300D 01A, in conjunction with the GNSS \\nantenna, is vital for offering accurate Armoured tank real -time tank positioning data.  \\nAeron Systems is obligated to deliver a range of items, encompassing documentation and spare \\nparts, as stipulated in the agreement. The equipment to be provided by Aeron Systems will be the \\nsame as that for the Indian Infantry, while quantities, user profi les and availability requirements \\nmay differ.  \\nScope of Manual  \\nThis document describes the Draft Maintenance Plan concept to support the INS OCT -NS7300 -\\n01A, GNSS Antenna and harness.   \\nThis document intricately outlines the Draft Maintenance Plan concept essential for supporting', metadata={'source': '/home/sooraj/Projects/pdf-chat/Tech_Manual_partII_INS_SAMC.pdf', 'page': 9}), Document(page_content='the INS OCT -NS7300 -01A, GNSS Antenna, and associated cable harness. This manual provides \\ninstructions for the scheduled maintenance manual for OCT -NS7300 -01A and  GNSS Antenna as \\ninstalled in an armoured vehicle. The installation of the INS system and associated accessories is \\nperformed in accordance with their respective Technical Solution Manual.  \\nSection 2  Maintenance Intervals  \\nThe equipment will be maintained at the following Maintenance echelons:  \\n● O Level Maintenance (Organization Maintenance) - by the Armoured Corps technicians.  \\n● I Level Maintenance (Intermediate Maintenance) - by the Armoured Corps technicians  \\n● D Level Maintenance (Depot Maintenance) - by the Aeron technicians  \\n \\nThe maintenance activities to be performed in O - and I -Level, consist of both periodic/preventive \\nactivities, as well as corrective activities.  \\nMaintenance tasks, principles, methods and aids are described in the following sub -paragraphs  \\nO Level Maintenance (Organization Maintenance)', metadata={'source': '/home/sooraj/Projects/pdf-chat/Tech_Manual_partII_INS_SAMC.pdf', 'page': 9}), Document(page_content='Organization or O - Level Maintenance occurs at the organization unit level by Armoured Corps \\noperational units as part of the operational team sites and Armoured Corps Maintenance team \\nunits.  \\nOCT -2 NS7300D 01A & GNSS Antenna is not required to disassemble the units from the vehicle \\nfor the O -Level Testing.', metadata={'source': '/home/sooraj/Projects/pdf-chat/Tech_Manual_partII_INS_SAMC.pdf', 'page': 9}), Document(page_content='RESTRICTED  \\n \\n2 It focuses on swift resolutions of malfunctions or inaccuracies without the need to remove the \\nOCT -2 NS7300D 01A & GNSS Antenna units.  \\n \\nTo check the malfunctions or inaccuracies of OCT -2 NS7300D 01A , use the Aeron Software \\nUtility to check the system health and trace out the fault.  \\n \\nIn case of malfunction or inaccurate data, the O -level Maintenance is optimized for turn -around, \\nto enhance operational availability to support the unit whether the unit on board needs to be \\ndismounted and replaced by another Line Replaceable Unit (LRU).  \\n \\nIn case the OCT -2 NS7300D 01A or GNSS Antenna is replaced, the faulty unit shall be shipped \\nto the Armoured Corps I -Level maintenance facility.  \\n \\nDuring period/Preventive Maintenance, the OLTE is used for the execution of functional checks \\n(Operability test), diagnostic programs and routine procedures.  \\n \\nI Level Maintenance (Intermediate Maintenance)', metadata={'source': '/home/sooraj/Projects/pdf-chat/Tech_Manual_partII_INS_SAMC.pdf', 'page': 10}), Document(page_content='Intermediate or I -Level maintenance occurs at the Armoured Corps Maintenance facility, by the \\nArmoured Corps technicians.  \\nThe maintenance activities to be performed at this level will be based on Armoured Corps \\nMaintenance technicians.  \\nIn case of malfunction or inaccurate position data, the I -Level Maintenance is optimized for a \\nturn-around, to enhance operational availability to support the unit whether the unit on board has \\nto be dismounted and replaced by another Line Replaceable Unit  (LRU).  \\nIn case the OCT -2 NS7300D 01A or GNSS Antenna is replaced, the fault unit shall be shipped to \\nthe D -Level maintenance facility for repair. Any non -repairable module will be discarded and a \\nnew module will be supplied by Aeron Systems according to the relev ant contract established \\nbetween Cogknit and the Armoured Corps.  \\nD Level Maintenance (Depot Maintenance)  \\nDepot or D -Level maintenance occurs at Aeron Systems Maintenance facility, by Aeron \\ntechnicians for both MEMS INS and GNSS Antenna and other list of deliverables items.', metadata={'source': '/home/sooraj/Projects/pdf-chat/Tech_Manual_partII_INS_SAMC.pdf', 'page': 10}), Document(page_content='RESTRICTED  \\n \\n3 The maintenance activities to be performed all this level will be based on Aeron Systems D -\\nLevel Testing and manufacturing equipment.  \\nAfter the warranty period, Aeron Systems will propose a D -Level maintenance contract for all \\nrepairable modules and systems, and a source for future purchasing of modules, systems etc.  \\n \\nMaintenance \\nLevel  Maintenance Task  Maintenance \\nInterval  Performed By  Aids and \\nSpare Sets  \\nO-Level \\nMaintenance  For MEMS INS  \\nPreventive/Operational \\nMaintenance  \\nINS Configuration  \\nChecking the Alt/Long/Lat \\ndata readiness, and system \\nstatus.  \\nEnsure the MEMS INS \\nunit is rigidly mounted on a \\nflat surface.  \\n \\nFor GNSS Antenna  \\nCheck the Antenna placed \\nin an obstacle location and \\nin the open sky.  \\n \\nCorrective Maintenance  \\nTroubleshooting failure \\ndown to LRU.  \\nRemoving a faulty INS', metadata={'source': '/home/sooraj/Projects/pdf-chat/Tech_Manual_partII_INS_SAMC.pdf', 'page': 11}), Document(page_content='unit, GNSS Antenna unit, \\nand harness and replacing \\nit with a serviceable LRU.  Daily or Weekly  Armoured \\nCorps \\noperational unit \\ntechnicians  OLTE (QTY \\nTBD)  \\nLRUs  \\nO-Level \\nMaintenance \\nDocumentation  \\nI-Level \\nMaintenance  For MEMS INS  \\nCorrective Maintenance  \\nTroubleshooting failures Monthly / Half \\nYearly  Armoured \\nCorps \\nmaintenance ILTE (QTY \\nTBD)  \\nLRUs', metadata={'source': '/home/sooraj/Projects/pdf-chat/Tech_Manual_partII_INS_SAMC.pdf', 'page': 11}), Document(page_content='RESTRICTED  \\n \\n4 Maintenance \\nLevel  Maintenance Task  Maintenance \\nInterval  Performed By  Aids and \\nSpare Sets  \\ndown to SRU level  \\nReplace the faulty modules \\n(SRU).  \\nConfigure and calibrate  unit technicians  SRU (modules)  \\nO-Level \\nMaintenance \\nDocumentation  \\nD-Level \\nMaintenance  Corrective Maintenance  \\nRepair the MEMS INS \\nwith the LRU  On operational \\ncondition  Aeron’s \\nmaintenance \\ntechnicians  LRU  \\nMaintenance \\nDocumentation', metadata={'source': '/home/sooraj/Projects/pdf-chat/Tech_Manual_partII_INS_SAMC.pdf', 'page': 12}), Document(page_content='RESTRICTED  \\n \\n5 Chapter 2  Chapter II - Test Equipment  \\nThe OCT -2 NS7300D 01A and GNSS Antenna is designed in a way that no special tools are \\nrequired to perform the maintenance activities as described in this document but the following \\nequipment are required:  \\n● PC/laptop with OCT -2 NS7300D 01A  \\n● Aeron Software Utility  \\n● Power Supply  \\n● Respective Cable Set  \\nSection 1  Test Equipment  \\nO-Level Test Equipment (OLTE)  \\nThe unit which is described in this paragraph and this document is identified as:  \\n• O-Level Test Equipment  \\n• OLTE can also be called as Testing Unit (TU).  \\nThis OLTE is Aeron Software Utility and is used on any laptop/tablet i.e. enables the Armoured \\nOperational units to perform the maintenance activities without dismounting the MEMS INS & \\nGNSS Antenna from the vehicle.  \\n● Visual Inspection', metadata={'source': '/home/sooraj/Projects/pdf-chat/Tech_Manual_partII_INS_SAMC.pdf', 'page': 13}), Document(page_content='● Base Functional Test such as, current consumption, System Health Status  \\n● Initiate the Raw Data to check the data readiness of the OCT -2 NS7300D 01A unit.  \\n● Review the satellite constellation status in GPS View  \\n● Technician’s Review of the actual software and firmware versions.  \\n \\nI-Level Test Equipment (ILTE)  \\nThe ILTE is used in maintenance facilities, enables the Armoured Corps maintenance units to \\nperform maintenance activities on vehicles. During the ILTE is connected (over Moxa Uport \\n1150 & RS422).  \\n● Initiate a review of the position data of the MEMS INS unit.  \\n● Check the Power supply or check the voltage level of the power source.  \\n● Conduct a visual check of harness bonding and cable cover/conductive tape used for \\nelectric connector bonding.  \\n● Replace any damaged or torn straps.  \\n● Check Corrosion on the INS unit, GNSS antenna connector, or cable harness winding.', metadata={'source': '/home/sooraj/Projects/pdf-chat/Tech_Manual_partII_INS_SAMC.pdf', 'page': 13}), Document(page_content='RESTRICTED  \\n \\n6 D-Level Test Equipment  \\nAeron using manufacturer test and manufacturing equipment.  \\nSection 2  Manufacturer Recommended List of Spares (MRLS)  \\nThe following list of deliverable items:  \\nSr. No.  Item Name  Maintenance Level  Quantity  \\n1 OCT2 -NS7300D -01A INS  D level  TBD  \\n2 Power Cable 3 Core for OCT2 -\\nNS7300D -01A INS  I level  TBD  \\n3 22 Pin Connector Data rugged \\nCable for OCT2 -NS7300D -01A  I level/ D level  TBD  \\n4 TNC Male to TNC Male rugged \\ncable harness  I level/ D level  TBD  \\n5 Triple band GNSS Antenna  D level  TBD  \\n6 Moxa Uport 1150  I level  TBD', metadata={'source': '/home/sooraj/Projects/pdf-chat/Tech_Manual_partII_INS_SAMC.pdf', 'page': 14}), Document(page_content='RESTRICTED  \\n \\n7 Chapter 3  Chapter III - Fault Diagnosis  \\nSection 1  Troubleshooting  \\nThis section provides information to assist in troubleshooting if a problem occurs after \\ncompleting the installation or maintenance. The following table will be used on the I -Level \\nmaintenance intervals.  When troubleshooting the MEMS INS system, refer to the drawings and \\nUser Manual that are retained in the permanent records.  \\n \\nSymptom  Possible Cause  Corrective Action  \\nThe Inertial status not \\nshowing in the software \\nutility  The INS unit is not \\npowered on.  Check the power supply switch of the \\nINS unit. Ensure the power supply 12 \\npin connector. Increase the input \\npower supply to 28V .  \\nThe GNSS does not \\ncompute a position  Not receiving adequate \\nGNSS signals.  Check the GNSS antenna \\nconnections, and make sure the \\nGNSS antenna is clear of \\nobstructions (hangars, buildings, \\ntrees, etc.)', metadata={'source': '/home/sooraj/Projects/pdf-chat/Tech_Manual_partII_INS_SAMC.pdf', 'page': 15}), Document(page_content='GNSS signal level drops \\nwhen vehicles are turned \\non. Noise interference from \\nother devices  Turn off all other devices, then turn \\non each device of the vehicle one at a \\ntime to locate the source of the \\ninterference. Route the GNSS \\nconnected cable and locate the GNSS \\nantenna away from the unit that is \\ncausing the interference.  \\nGNSS signal levels are \\nvery low  Improper antenna \\ninstallation or routing  Check GNSS antenna installation, \\nconnections and cable routing. The \\nGNSS antenna must be mounted on \\nthe top of the armoured vehicle.  \\nAntenna shaded from \\nsatellite signals  Ensure that the vehicle is clear of \\nobstructions (hangars, building \\nunderground park, trees, etc.)  \\nInertial status not showing Incompatible connected Check the INS connections, check \\nany interference cable/device around', metadata={'source': '/home/sooraj/Projects/pdf-chat/Tech_Manual_partII_INS_SAMC.pdf', 'page': 15}), Document(page_content='RESTRICTED  \\n \\n8 Symptom  Possible Cause  Corrective Action  \\nin software utility display  or improper connection  the INS unit.  \\nGNSS FIX status not \\nshowing on the software \\nutility  Improper connection  Check the wire connection between \\nINS unit and GNSS antenna.  \\nHealth Status showing Red \\nstatus  INS unit is an \\nincompatible, improper \\nconnection, not \\nconfigured  Check harness connection and INS \\ncalibration  \\nGNSS FIX red status and \\nalso not showing Inertial \\noption  GNSS FIX port \\nconfigured is not selected \\nor calibrated incorrectly  Check the Diagnostic section  \\nINS not receiving heading \\ndata from external input  Incorrect external \\nheading speed input \\nsettings  Check the External input speed port \\nsetting for the port that the device is \\nconnected and verify that the port and \\ndata transmitted speed is correct for \\nthat port.  \\nCable connections are \\nincorrect.  The external heading input need to \\ncheck the connection and also', metadata={'source': '/home/sooraj/Projects/pdf-chat/Tech_Manual_partII_INS_SAMC.pdf', 'page': 16}), Document(page_content='monitor on the Aeron Software \\nUtility. Refer to section Heading.  \\n \\nSection 2  Fault Unit Diagnosis  \\nAs per the Maintenance Intervals, if the fault unit is found then the I -level Maintenance will \\ndeliver the unit to D -Level Maintenance.', metadata={'source': '/home/sooraj/Projects/pdf-chat/Tech_Manual_partII_INS_SAMC.pdf', 'page': 16}), Document(page_content='RESTRICTED  \\n \\n9 Appendix J1 - Address and contact details  \\nAddress  \\nAeron Systems Pvt. Ltd.  \\nPlot No.7, Lane No. 5, Behind D Mart, Laxman Nagar, Balewadi, Pune -411045, MH, India  \\nTel - +91 020 -29911228  \\nEmail  - contact@aeronsystems.com  \\nWeb  - www.aeronsystems.com', metadata={'source': '/home/sooraj/Projects/pdf-chat/Tech_Manual_partII_INS_SAMC.pdf', 'page': 17})]\n"
     ]
    }
   ],
   "source": [
    "doc_splits = load_urls(docs)\n",
    "print(doc_splits)"
   ]
  },
  {
   "cell_type": "code",
   "execution_count": 72,
   "id": "4a362520-72e4-4fc5-8b4f-a337773f7222",
   "metadata": {
    "tags": []
   },
   "outputs": [
    {
     "name": "stdout",
     "output_type": "stream",
     "text": [
      "**************Setup retriever\n"
     ]
    }
   ],
   "source": [
    "# setup retriever\n",
    "retriever = setup_retriever(doc_splits)"
   ]
  },
  {
   "cell_type": "code",
   "execution_count": 58,
   "id": "0481e8f1-adba-490c-b1b2-d56b9d3d457f",
   "metadata": {
    "tags": []
   },
   "outputs": [
    {
     "name": "stdout",
     "output_type": "stream",
     "text": [
      "[Document(page_content='● Base Functional Test such as, current consumption, System Health Status  \\n● Initiate the Raw Data to check the data readiness of the OCT -2 NS7300D 01A unit.  \\n● Review the satellite constellation status in GPS View  \\n● Technician’s Review of the actual software and firmware versions.  \\n \\nI-Level Test Equipment (ILTE)  \\nThe ILTE is used in maintenance facilities, enables the Armoured Corps maintenance units to \\nperform maintenance activities on vehicles. During the ILTE is connected (over Moxa Uport \\n1150 & RS422).  \\n● Initiate a review of the position data of the MEMS INS unit.  \\n● Check the Power supply or check the voltage level of the power source.  \\n● Conduct a visual check of harness bonding and cable cover/conductive tape used for \\nelectric connector bonding.  \\n● Replace any damaged or torn straps.  \\n● Check Corrosion on the INS unit, GNSS antenna connector, or cable harness winding.', metadata={'page': 13, 'source': '/home/sooraj/Projects/pdf-chat/Tech_Manual_partII_INS_SAMC.pdf'}),\n",
      " Document(page_content='RESTRICTED  \\n \\n5 Chapter 2  Chapter II - Test Equipment  \\nThe OCT -2 NS7300D 01A and GNSS Antenna is designed in a way that no special tools are \\nrequired to perform the maintenance activities as described in this document but the following \\nequipment are required:  \\n● PC/laptop with OCT -2 NS7300D 01A  \\n● Aeron Software Utility  \\n● Power Supply  \\n● Respective Cable Set  \\nSection 1  Test Equipment  \\nO-Level Test Equipment (OLTE)  \\nThe unit which is described in this paragraph and this document is identified as:  \\n• O-Level Test Equipment  \\n• OLTE can also be called as Testing Unit (TU).  \\nThis OLTE is Aeron Software Utility and is used on any laptop/tablet i.e. enables the Armoured \\nOperational units to perform the maintenance activities without dismounting the MEMS INS & \\nGNSS Antenna from the vehicle.  \\n● Visual Inspection', metadata={'page': 13, 'source': '/home/sooraj/Projects/pdf-chat/Tech_Manual_partII_INS_SAMC.pdf'}),\n",
      " Document(page_content='RESTRICTED  \\n \\n9 Appendix J1 - Address and contact details  \\nAddress  \\nAeron Systems Pvt. Ltd.  \\nPlot No.7, Lane No. 5, Behind D Mart, Laxman Nagar, Balewadi, Pune -411045, MH, India  \\nTel - +91 020 -29911228  \\nEmail  - contact@aeronsystems.com  \\nWeb  - www.aeronsystems.com', metadata={'page': 17, 'source': '/home/sooraj/Projects/pdf-chat/Tech_Manual_partII_INS_SAMC.pdf'}),\n",
      " Document(page_content='the INS OCT -NS7300 -01A, GNSS Antenna, and associated cable harness. This manual provides \\ninstructions for the scheduled maintenance manual for OCT -NS7300 -01A and  GNSS Antenna as \\ninstalled in an armoured vehicle. The installation of the INS system and associated accessories is \\nperformed in accordance with their respective Technical Solution Manual.  \\nSection 2  Maintenance Intervals  \\nThe equipment will be maintained at the following Maintenance echelons:  \\n● O Level Maintenance (Organization Maintenance) - by the Armoured Corps technicians.  \\n● I Level Maintenance (Intermediate Maintenance) - by the Armoured Corps technicians  \\n● D Level Maintenance (Depot Maintenance) - by the Aeron technicians  \\n \\nThe maintenance activities to be performed in O - and I -Level, consist of both periodic/preventive \\nactivities, as well as corrective activities.  \\nMaintenance tasks, principles, methods and aids are described in the following sub -paragraphs  \\nO Level Maintenance (Organization Maintenance)', metadata={'page': 9, 'source': '/home/sooraj/Projects/pdf-chat/Tech_Manual_partII_INS_SAMC.pdf'})]\n",
      "{'page': 13, 'source': '/home/sooraj/Projects/pdf-chat/Tech_Manual_partII_INS_SAMC.pdf'}\n",
      "{'page': 13, 'source': '/home/sooraj/Projects/pdf-chat/Tech_Manual_partII_INS_SAMC.pdf'}\n",
      "{'page': 17, 'source': '/home/sooraj/Projects/pdf-chat/Tech_Manual_partII_INS_SAMC.pdf'}\n",
      "{'page': 9, 'source': '/home/sooraj/Projects/pdf-chat/Tech_Manual_partII_INS_SAMC.pdf'}\n"
     ]
    }
   ],
   "source": [
    "from pprint import pprint\n",
    "\n",
    "res = retriever.invoke(\"Depot Maintenance\")\n",
    "pprint(res)\n",
    "for doc in res:\n",
    "    print(doc.metadata)"
   ]
  },
  {
   "cell_type": "code",
   "execution_count": null,
   "id": "c16f99e2-6483-4dfc-867d-a8faad9ecd2c",
   "metadata": {},
   "outputs": [],
   "source": []
  }
 ],
 "metadata": {
  "kernelspec": {
   "display_name": "Python 3 (ipykernel)",
   "language": "python",
   "name": "python3"
  },
  "language_info": {
   "codemirror_mode": {
    "name": "ipython",
    "version": 3
   },
   "file_extension": ".py",
   "mimetype": "text/x-python",
   "name": "python",
   "nbconvert_exporter": "python",
   "pygments_lexer": "ipython3",
   "version": "3.11.7"
  }
 },
 "nbformat": 4,
 "nbformat_minor": 5
}
