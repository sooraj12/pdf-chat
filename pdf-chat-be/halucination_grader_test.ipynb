{
 "cells": [
  {
   "cell_type": "code",
   "execution_count": 50,
   "id": "81055c15-fea1-48b9-9df0-719372bcac47",
   "metadata": {
    "tags": []
   },
   "outputs": [],
   "source": [
    "from langchain.prompts import PromptTemplate\n",
    "\n",
    "hallucination_grader_prompt = PromptTemplate(\n",
    "    template=\"\"\" <|begin_of_text|><|start_header_id|>system<|end_header_id|> You are a grader assessing whether \n",
    "    an answer is grounded in / supported by a set of facts. Give a binary score 'yes' or 'no' score to indicate \n",
    "    whether the answer is grounded in / supported by a set of facts. Provide the binary score as a JSON with a \n",
    "    single key 'score' and no preamble or explanation. <|eot_id|><|start_header_id|>user<|end_header_id|>\n",
    "    Here are the facts:\n",
    "    \\n ------- \\n\n",
    "    {documents} \n",
    "    \\n ------- \\n\n",
    "    Here is the answer: {generation}  <|eot_id|><|start_header_id|>assistant<|end_header_id|>\"\"\",\n",
    "    input_variables=[\"generation\", \"documents\"],\n",
    ")\n"
   ]
  },
  {
   "cell_type": "code",
   "execution_count": 52,
   "id": "29f75701-7dfb-41b1-8e97-928644e0e1f3",
   "metadata": {
    "tags": []
   },
   "outputs": [],
   "source": [
    "from langchain_groq import ChatGroq\n",
    "from langchain_core.pydantic_v1 import BaseModel, Field\n",
    "\n",
    "grader_llm_name = \"llama3-70b-8192\"\n",
    "\n",
    "\n",
    "class GradeHallucinations(BaseModel):\n",
    "    \"\"\"Binary score for hallucination present in generation answer.\"\"\"\n",
    "\n",
    "    score: str = Field(\n",
    "        description=\"Answer is grounded in the facts, 'yes' or 'no'\"\n",
    "    )\n",
    "\n",
    "\n",
    "\n",
    "grader_llm = ChatGroq(\n",
    "    model=grader_llm_name,\n",
    "    temperature=0,\n",
    ")\n",
    "\n",
    "hallucination_grader = hallucination_grader_prompt | grader_llm.with_structured_output(GradeHallucinations)"
   ]
  },
  {
   "cell_type": "code",
   "execution_count": 54,
   "id": "19283c1c-4bfd-4111-a221-d508f133140e",
   "metadata": {
    "tags": []
   },
   "outputs": [
    {
     "name": "stdout",
     "output_type": "stream",
     "text": [
      "score='yes'\n"
     ]
    }
   ],
   "source": [
    "documents = \"\"\"the INS OCT -NS7300 -01A, GNSS Antenna, and associated cable harness. This manual provides \n",
    "instructions for the scheduled maintenance manual for OCT -NS7300 -01A and  GNSS Antenna as \n",
    "installed in an armoured vehicle. The installation of the INS system and associated accessories is \n",
    "performed in accordance with their respective Technical Solution Manual.  \n",
    "Section 2  Maintenance Intervals  \n",
    "The equipment will be maintained at the following Maintenance echelons:  \n",
    "● O Level Maintenance (Organization Maintenance) - by the Armoured Corps technicians.  \n",
    "● I Level Maintenance (Intermediate Maintenance) - by the Armoured Corps technicians  \n",
    "● D Level Maintenance (Depot Maintenance) - by the Aeron technicians  \n",
    " \n",
    "The maintenance activities to be performed in O - and I -Level, consist of both periodic/preventive \n",
    "activities, as well as corrective activities.  \n",
    "Maintenance tasks, principles, methods and aids are described in the following sub -paragraphs  \n",
    "O Level Maintenance (Organization Maintenance) ● Base Functional Test such as, current consumption, System Health Status  \n",
    "● Initiate the Raw Data to check the data readiness of the OCT -2 NS7300D 01A unit.  \n",
    "● Review the satellite constellation status in GPS View  \n",
    "● Technician’s Review of the actual software and firmware versions.  \n",
    " \n",
    "I-Level Test Equipment (ILTE)  \n",
    "The ILTE is used in maintenance facilities, enables the Armoured Corps maintenance units to \n",
    "perform maintenance activities on vehicles. During the ILTE is connected (over Moxa Uport \n",
    "1150 & RS422).  \n",
    "● Initiate a review of the position data of the MEMS INS unit.  \n",
    "● Check the Power supply or check the voltage level of the power source.  \n",
    "● Conduct a visual check of harness bonding and cable cover/conductive tape used for \n",
    "electric connector bonding.  \n",
    "● Replace any damaged or torn straps.  \n",
    "● Check Corrosion on the INS unit, GNSS antenna connector, or cable harness winding. RESTRICTED  \n",
    " \n",
    "7 Chapter 3  Chapter III - Fault Diagnosis  \n",
    "Section 1  Troubleshooting  \n",
    "This section provides information to assist in troubleshooting if a problem occurs after \n",
    "completing the installation or maintenance. The following table will be used on the I -Level \n",
    "maintenance intervals.  When troubleshooting the MEMS INS system, refer to the drawings and \n",
    "User Manual that are retained in the permanent records.  \n",
    " \n",
    "Symptom  Possible Cause  Corrective Action  \n",
    "The Inertial status not \n",
    "showing in the software \n",
    "utility  The INS unit is not \n",
    "powered on.  Check the power supply switch of the \n",
    "INS unit. Ensure the power supply 12 \n",
    "pin connector. Increase the input \n",
    "power supply to 28V .  \n",
    "The GNSS does not \n",
    "compute a position  Not receiving adequate \n",
    "GNSS signals.  Check the GNSS antenna \n",
    "connections, and make sure the \n",
    "GNSS antenna is clear of \n",
    "obstructions (hangars, buildings, \n",
    "trees, etc.) RESTRICTED  \n",
    " \n",
    "iii LIST OF ASSOCIATED HANDBOOKS  \n",
    "Technical Literature for MEMS INS SYSTEM  \n",
    "(Main Equipment/ System) comprises of the followings:  \n",
    "USER HANDBOOK AND INSTRUCTIONS FOR INSTALLATION INCLUDING \n",
    "CHECKLIST  \n",
    "TECHNICAL MANUAL  \n",
    "PART I TECHNICAL INFORMATION  \n",
    "V olume 1 Technical Description  \n",
    "V olume 2 Drawings  \n",
    "PART II MAINTENANCE  \n",
    "PART III OVERHAUL AND RECONDITIONING INSTRUCTIONS  \n",
    "PART IV MANUFACTURER'S PARTS LIST  \n",
    "V olume 1 Parts List  \n",
    "V olume 2 Illustrations\"\"\"\n",
    "\n",
    "\n",
    "generation = \"\"\"The maintenance procedures for an INS (Inertial Navigation System) include O-Level Maintenance, I-Level Maintenance, and D-Level Maintenance. O-Level Maintenance is performed by Armoured Corps technicians, I-Level Maintenance is performed by Armoured Corps technicians, and D-Level Maintenance is performed by Aeron technicians.\"\"\"\n",
    "\n",
    "\n",
    "score = hallucination_grader.invoke(\n",
    "        {\"documents\": documents, \"generation\": generation}\n",
    "    )\n",
    "\n",
    "print(score)"
   ]
  },
  {
   "cell_type": "code",
   "execution_count": null,
   "id": "04be4224-b24d-4730-83f2-2b4b7e6978df",
   "metadata": {},
   "outputs": [],
   "source": []
  }
 ],
 "metadata": {
  "kernelspec": {
   "display_name": "Python 3 (ipykernel)",
   "language": "python",
   "name": "python3"
  },
  "language_info": {
   "codemirror_mode": {
    "name": "ipython",
    "version": 3
   },
   "file_extension": ".py",
   "mimetype": "text/x-python",
   "name": "python",
   "nbconvert_exporter": "python",
   "pygments_lexer": "ipython3",
   "version": "3.11.7"
  }
 },
 "nbformat": 4,
 "nbformat_minor": 5
}
