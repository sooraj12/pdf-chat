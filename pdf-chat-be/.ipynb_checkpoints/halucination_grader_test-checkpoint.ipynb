{
 "cells": [
  {
   "cell_type": "code",
   "execution_count": 13,
   "id": "81055c15-fea1-48b9-9df0-719372bcac47",
   "metadata": {
    "tags": []
   },
   "outputs": [],
   "source": [
    "from langchain.prompts import PromptTemplate\n",
    "\n",
    "hallucination_grader_prompt = PromptTemplate(\n",
    "    template=\"\"\" <|begin_of_text|><|start_header_id|>system<|end_header_id|> You are a grader assessing whether \n",
    "    an answer is grounded in / supported by a set of facts. Give a binary score 'yes' or 'no' score to indicate \n",
    "    whether the answer is grounded in / supported by a set of facts. Provide the binary score as a JSON with a \n",
    "    single key 'score' and no preamble or explanation. <|eot_id|><|start_header_id|>user<|end_header_id|>\n",
    "    Here are the facts:\n",
    "    \\n ------- \\n\n",
    "    {documents} \n",
    "    \\n ------- \\n\n",
    "    Here is the answer: {generation}  <|eot_id|><|start_header_id|>assistant<|end_header_id|>\"\"\",\n",
    "    input_variables=[\"generation\", \"documents\"],\n",
    ")\n"
   ]
  },
  {
   "cell_type": "code",
   "execution_count": 15,
   "id": "29f75701-7dfb-41b1-8e97-928644e0e1f3",
   "metadata": {
    "tags": []
   },
   "outputs": [],
   "source": [
    "from langchain_groq import ChatGroq\n",
    "from langchain_core.pydantic_v1 import BaseModel, Field\n",
    "\n",
    "grader_llm_name = \"llama3-8b-8192\"\n",
    "\n",
    "\n",
    "class GradeHallucinations(BaseModel):\n",
    "    \"\"\"Binary score for hallucination present in generation answer.\"\"\"\n",
    "\n",
    "    score: str = Field(\n",
    "        description=\"Answer is grounded in the facts, 'yes' or 'no'\"\n",
    "    )\n",
    "\n",
    "\n",
    "\n",
    "grader_llm = ChatGroq(\n",
    "    model=grader_llm_name,\n",
    "    temperature=0,\n",
    ")\n",
    "\n",
    "hallucination_grader = hallucination_grader_prompt | grader_llm.with_structured_output(GradeHallucinations)"
   ]
  },
  {
   "cell_type": "code",
   "execution_count": 17,
   "id": "19283c1c-4bfd-4111-a221-d508f133140e",
   "metadata": {
    "tags": []
   },
   "outputs": [
    {
     "name": "stdout",
     "output_type": "stream",
     "text": [
      "score='yes'\n"
     ]
    }
   ],
   "source": [
    "documents = \"\"\"the INS OCT -NS7300 -01A, GNSS Antenna, and associated cable harness. This manual provides \n",
    "instructions for the scheduled maintenance manual for OCT -NS7300 -01A and  GNSS Antenna as \n",
    "installed in an armoured vehicle. The installation of the INS system and associated accessories is \n",
    "performed in accordance with their respective Technical Solution Manual.  \n",
    "Section 2  Maintenance Intervals  \n",
    "The equipment will be maintained at the following Maintenance echelons:  \n",
    "● O Level Maintenance (Organization Maintenance) - by the Armoured Corps technicians.  \n",
    "● I Level Maintenance (Intermediate Maintenance) - by the Armoured Corps technicians  \n",
    "● D Level Maintenance (Depot Maintenance) - by the Aeron technicians  \n",
    " \n",
    "The maintenance activities to be performed in O - and I -Level, consist of both periodic/preventive \n",
    "activities, as well as corrective activities.  \n",
    "Maintenance tasks, principles, methods and aids are described in the following sub -paragraphs  \n",
    "O Level Maintenance (Organization Maintenance) RESTRICTED  \n",
    " \n",
    "iii LIST OF ASSOCIATED HANDBOOKS  \n",
    "Technical Literature for MEMS INS SYSTEM  \n",
    "(Main Equipment/ System) comprises of the followings:  \n",
    "USER HANDBOOK AND INSTRUCTIONS FOR INSTALLATION INCLUDING \n",
    "CHECKLIST  \n",
    "TECHNICAL MANUAL  \n",
    "PART I TECHNICAL INFORMATION  \n",
    "V olume 1 Technical Description  \n",
    "V olume 2 Drawings  \n",
    "PART II MAINTENANCE  \n",
    "PART III OVERHAUL AND RECONDITIONING INSTRUCTIONS  \n",
    "PART IV MANUFACTURER'S PARTS LIST  \n",
    "V olume 1 Parts List  \n",
    "V olume 2 Illustrations RESTRICTED  \n",
    " \n",
    "3 The maintenance activities to be performed all this level will be based on Aeron Systems D -\n",
    "Level Testing and manufacturing equipment.  \n",
    "After the warranty period, Aeron Systems will propose a D -Level maintenance contract for all \n",
    "repairable modules and systems, and a source for future purchasing of modules, systems etc.  \n",
    " \n",
    "Maintenance \n",
    "Level  Maintenance Task  Maintenance \n",
    "Interval  Performed By  Aids and \n",
    "Spare Sets  \n",
    "O-Level \n",
    "Maintenance  For MEMS INS  \n",
    "Preventive/Operational \n",
    "Maintenance  \n",
    "INS Configuration  \n",
    "Checking the Alt/Long/Lat \n",
    "data readiness, and system \n",
    "status.  \n",
    "Ensure the MEMS INS \n",
    "unit is rigidly mounted on a \n",
    "flat surface.  \n",
    " \n",
    "For GNSS Antenna  \n",
    "Check the Antenna placed \n",
    "in an obstacle location and \n",
    "in the open sky.  \n",
    " \n",
    "Corrective Maintenance  \n",
    "Troubleshooting failure \n",
    "down to LRU.  \n",
    "Removing a faulty INS RESTRICTED  \n",
    " \n",
    "1 Chapter 1  Inspection and Maintenance Routine  \n",
    "Section 1  Introduction  \n",
    "Aeron Systems is set to supply the MEMS INS with GNSS Antenna to  Cogknit Semantics Ltd. \n",
    "(Cogknit).  The MEMS INS model OCT -2 NS7300D 01A, in conjunction with the GNSS \n",
    "antenna, is vital for offering accurate Armoured tank real -time tank positioning data.  \n",
    "Aeron Systems is obligated to deliver a range of items, encompassing documentation and spare \n",
    "parts, as stipulated in the agreement. The equipment to be provided by Aeron Systems will be the \n",
    "same as that for the Indian Infantry, while quantities, user profi les and availability requirements \n",
    "may differ.  \n",
    "Scope of Manual  \n",
    "This document describes the Draft Maintenance Plan concept to support the INS OCT -NS7300 -\n",
    "01A, GNSS Antenna and harness.   \n",
    "This document intricately outlines the Draft Maintenance Plan concept essential for supporting \"\"\"\n",
    "\n",
    "\n",
    "generation = \"\"\"The different maintenance levels for an INS (Inertial Navigation System) are:\n",
    "\n",
    "* O Level Maintenance (Organization Maintenance): performed by Armoured Corps technicians\n",
    "* I Level Maintenance (Intermediate Maintenance): performed by Armoured Corps technicians\n",
    "* D Level Maintenance (Depot Maintenance): performed by Aeron technicians\"\"\"\n",
    "\n",
    "\n",
    "score = hallucination_grader.invoke(\n",
    "        {\"documents\": documents, \"generation\": generation}\n",
    "    )\n",
    "\n",
    "print(score)"
   ]
  }
 ],
 "metadata": {
  "kernelspec": {
   "display_name": "Python 3 (ipykernel)",
   "language": "python",
   "name": "python3"
  },
  "language_info": {
   "codemirror_mode": {
    "name": "ipython",
    "version": 3
   },
   "file_extension": ".py",
   "mimetype": "text/x-python",
   "name": "python",
   "nbconvert_exporter": "python",
   "pygments_lexer": "ipython3",
   "version": "3.11.7"
  }
 },
 "nbformat": 4,
 "nbformat_minor": 5
}
