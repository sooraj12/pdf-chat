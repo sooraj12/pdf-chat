{
 "cells": [
  {
   "cell_type": "code",
   "execution_count": 139,
   "id": "b0b6bb03-2630-4f1d-bba7-2982db59ccb7",
   "metadata": {
    "tags": []
   },
   "outputs": [],
   "source": [
    "docs = [\n",
    "    \"/home/sooraj/Projects/pdf-chat/Tech_Manual_partII_INS_SAMC.pdf\",\n",
    "]"
   ]
  },
  {
   "cell_type": "code",
   "execution_count": 141,
   "id": "0a8ceb78-981b-4f00-8e7d-e247d884e4b8",
   "metadata": {
    "tags": []
   },
   "outputs": [],
   "source": [
    "from langchain.text_splitter import RecursiveCharacterTextSplitter\n",
    "from langchain_community.document_loaders import (\n",
    "    UnstructuredPDFLoader,\n",
    "    UnstructuredFileLoader\n",
    ")\n",
    "# from langchain_community.vectorstores.utils import filter_complex_metadata\n",
    "\n",
    "def load_unstructured_pdf(docs):\n",
    "    docs = [UnstructuredFileLoader(doc).load() for doc in docs]\n",
    "    docs_list = [item for sublist in docs for item in sublist]\n",
    "    # split documents into chunks\n",
    "    text_splitter = RecursiveCharacterTextSplitter.from_tiktoken_encoder(\n",
    "        chunk_size=500, chunk_overlap=20\n",
    "    )\n",
    "    doc_splits = text_splitter.split_documents(docs_list)\n",
    "    print(\"**************Documents loaded from disk\")\n",
    "\n",
    "    return doc_splits"
   ]
  },
  {
   "cell_type": "code",
   "execution_count": 143,
   "id": "46c60b43-99c5-47aa-b4ef-4bd63a3f8a15",
   "metadata": {
    "tags": []
   },
   "outputs": [],
   "source": [
    "from langchain_community.vectorstores import Chroma\n",
    "from langchain_community.embeddings import OllamaEmbeddings\n",
    "\n",
    "embedding_model_name = \"nomic-embed-text\"\n",
    "\n",
    "def setup_retriever(doc_splits):\n",
    "    embedding_model = OllamaEmbeddings(\n",
    "        model=embedding_model_name\n",
    "    )\n",
    "    vectorstore = Chroma.from_documents(\n",
    "        documents=doc_splits, collection_name=\"rag-chroma-test\", embedding=embedding_model\n",
    "    )\n",
    "    retriever = vectorstore.as_retriever()\n",
    "    print(\"**************Setup retriever\")\n",
    "\n",
    "    return retriever"
   ]
  },
  {
   "cell_type": "code",
   "execution_count": 145,
   "id": "71c27d6d-3877-47cd-b443-95034cde5952",
   "metadata": {
    "tags": []
   },
   "outputs": [
    {
     "name": "stdout",
     "output_type": "stream",
     "text": [
      "**************Documents loaded from disk\n"
     ]
    }
   ],
   "source": [
    "doc_splits = load_unstructured_pdf(docs)"
   ]
  },
  {
   "cell_type": "code",
   "execution_count": 155,
   "id": "c76feef6-4bd6-4de4-b95e-3b0eb8964608",
   "metadata": {
    "tags": []
   },
   "outputs": [
    {
     "name": "stdout",
     "output_type": "stream",
     "text": [
      "8\n",
      "[Document(page_content=\"RESTRICTED\\n\\nCode No.\\n\\nTHE INFORMATION GIVEN IN THIS DOCUMENT IS NOT TO BE PUBLISHED OR COMMUNICATED EITHER DIRECTLY OR INDIRECTLY TO THE PRESS OR TO ANY PERSON NOT HOLDING AN OFFICIAL POSTION IN THE SERVICE OF THE GOVERNMENT OF INDIA\\n\\nTECHNICAL MANUAL\\n\\nPART NO: II\\n\\nMEMS Inertial Navigation System\\n\\nTHIS HANDBOOK DOES NOT CONSTITUE AUTHORITY FOR REPAIRS OR REPLACMENT OF COMPONENTS BY USERS REPAIRS BY DIFFERENT AGENCIES WILL ONLY BE CARRIED OUT AS LAID DOWN IN PERMISSIBLE REPAIR SCHEDULES PUBLISHED AS EMERs OR EQUIVALENT FROM TIME TO TIME.\\n\\nPrepared & Published by\\n\\nAERON SYSTEMS PVT.LTD.\\n\\nUnder the Authority of Secretary, Minister of Defence, Govt .of India\\n\\nMonth and Year: April 2024\\n\\nRESTRICTED\\n\\nChange Notice No.\\n\\nRESTRICTED\\n\\nRECORD OF CHANGES\\n\\nAuthority\\n\\nName & Rank\\n\\nii\\n\\nInitial with Date\\n\\nRESTRICTED\\n\\nLIST OF ASSOCIATED HANDBOOKS\\n\\nTechnical Literature for MEMS INS SYSTEM\\n\\n(Main Equipment/ System) comprises of the followings:\\n\\nUSER HANDBOOK AND INSTRUCTIONS FOR INSTALLATION INCLUDING CHECKLIST\\n\\nTECHNICAL MANUAL\\n\\nPART I TECHNICAL INFORMATION\\n\\nVolume 1 Technical Description\\n\\nVolume 2 Drawings\\n\\nPART II MAINTENANCE\\n\\nPART III OVERHAUL AND RECONDITIONING INSTRUCTIONS\\n\\nPART IV MANUFACTURER'S PARTS LIST\\n\\nVolume 1 Parts List\\n\\nVolume 2 Illustrations\\n\\niii\\n\\nRESTRICTED\\n\\niv\\n\\nRESTRICTED\\n\\nv\\n\\nRESTRICTED\\n\\nCaution Notes\\n\\nvi\\n\\nRESTRICTED\\n\\nvii\\n\\nTITLE OF PUBLICATION\\n\\nRESTRICTED\\n\\nCHANGE NOTICE\\n\\nCODE No. AND DATE\\n\\nPREVIOUS CHANGE\\n\\nviii\\n\\nCHANGE NOTICE No. AND DATE\", metadata={'source': '/home/sooraj/Projects/pdf-chat/Tech_Manual_partII_INS_SAMC.pdf'}), Document(page_content='viii\\n\\nCHANGE NOTICE No. AND DATE\\n\\nRESTRICTED\\n\\nTable of Contents\\n\\nChapter 1 Inspection and Maintenance Routine ........................................................................ 1\\n\\nSection 1 Introduction ............................................................................................................ 1\\n\\nScope of Manual ................................................................................................................ 1\\n\\nSection 2 Maintenance Intervals ............................................................................................ 1\\n\\nO Level Maintenance (Organization Maintenance) ........................................................... 1\\n\\nI Level Maintenance (Intermediate Maintenance) ............................................................. 2\\n\\nD Level Maintenance (Depot Maintenance) ...................................................................... 2\\n\\nChapter 2 Chapter II - Test Equipment ...................................................................................... 5\\n\\nSection 1 Test Equipment ...................................................................................................... 5\\n\\nO-Level Test Equipment (OLTE) ....................................................................................... 5\\n\\nI-Level Test Equipment (ILTE) .......................................................................................... 5\\n\\nD-Level Test Equipment .................................................................................................... 6\\n\\nSection 2 Manufacturer Recommended List of Spares (MRLS) ........................................... 6\\n\\nChapter 3 Chapter III - Fault Diagnosis ..................................................................................... 7\\n\\nSection 1 Troubleshooting ..................................................................................................... 7\\n\\nSection 2 Fault Unit Diagnosis .............................................................................................. 8\\n\\nix\\n\\nRESTRICTED\\n\\nChapter 1 Inspection and Maintenance Routine\\n\\nSection 1 Introduction\\n\\nAeron Systems is set to supply the MEMS INS with GNSS Antenna to Cogknit Semantics Ltd. (Cogknit). The MEMS INS model OCT-2 NS7300D 01A, in conjunction with the GNSS antenna, is vital for offering accurate Armoured tank real-time tank positioning data.\\n\\nAeron Systems is obligated to deliver a range of items, encompassing documentation and spare parts, as stipulated in the agreement. The equipment to be provided by Aeron Systems will be the same as that for the Indian Infantry, while quantities, user profiles and availability requirements may differ.\\n\\nScope of Manual\\n\\nThis document describes the Draft Maintenance Plan concept to support the INS OCT-NS7300- 01A, GNSS Antenna and harness.', metadata={'source': '/home/sooraj/Projects/pdf-chat/Tech_Manual_partII_INS_SAMC.pdf'}), Document(page_content='This document intricately outlines the Draft Maintenance Plan concept essential for supporting the INS OCT-NS7300-01A, GNSS Antenna, and associated cable harness. This manual provides instructions for the scheduled maintenance manual for OCT-NS7300-01A and GNSS Antenna as installed in an armoured vehicle. The installation of the INS system and associated accessories is performed in accordance with their respective Technical Solution Manual.\\n\\nSection 2 Maintenance Intervals\\n\\nThe equipment will be maintained at the following Maintenance echelons:\\n\\nO Level Maintenance (Organization Maintenance) - by the Armoured Corps technicians. ● I Level Maintenance (Intermediate Maintenance) - by the Armoured Corps technicians ● D Level Maintenance (Depot Maintenance) - by the Aeron technicians\\n\\nThe maintenance activities to be performed in O- and I-Level, consist of both periodic/preventive activities, as well as corrective activities.\\n\\nMaintenance tasks, principles, methods and aids are described in the following sub-paragraphs\\n\\nO Level Maintenance (Organization Maintenance)\\n\\nOrganization or O - Level Maintenance occurs at the organization unit level by Armoured Corps operational units as part of the operational team sites and Armoured Corps Maintenance team units.\\n\\nOCT-2 NS7300D 01A & GNSS Antenna is not required to disassemble the units from the vehicle for the O-Level Testing.\\n\\n1\\n\\nRESTRICTED\\n\\nIt focuses on swift resolutions of malfunctions or inaccuracies without the need to remove the OCT-2 NS7300D 01A & GNSS Antenna units.\\n\\nTo check the malfunctions or inaccuracies of OCT-2 NS7300D 01A , use the Aeron Software Utility to check the system health and trace out the fault.\\n\\nIn case of malfunction or inaccurate data, the O-level Maintenance is optimized for turn-around, to enhance operational availability to support the unit whether the unit on board needs to be dismounted and replaced by another Line Replaceable Unit (LRU).\\n\\nIn case the OCT-2 NS7300D 01A or GNSS Antenna is replaced, the faulty unit shall be shipped to the Armoured Corps I-Level maintenance facility.\\n\\nDuring period/Preventive Maintenance, the OLTE is used for the execution of functional checks (Operability test), diagnostic programs and routine procedures.', metadata={'source': '/home/sooraj/Projects/pdf-chat/Tech_Manual_partII_INS_SAMC.pdf'}), Document(page_content='I Level Maintenance (Intermediate Maintenance)\\n\\nIntermediate or I-Level maintenance occurs at the Armoured Corps Maintenance facility, by the Armoured Corps technicians.\\n\\nThe maintenance activities to be performed at this level will be based on Armoured Corps Maintenance technicians.\\n\\nIn case of malfunction or inaccurate position data, the I-Level Maintenance is optimized for a turn-around, to enhance operational availability to support the unit whether the unit on board has to be dismounted and replaced by another Line Replaceable Unit (LRU).\\n\\nIn case the OCT-2 NS7300D 01A or GNSS Antenna is replaced, the fault unit shall be shipped to the D-Level maintenance facility for repair. Any non-repairable module will be discarded and a new module will be supplied by Aeron Systems according to the relevant contract established between Cogknit and the Armoured Corps.\\n\\nD Level Maintenance (Depot Maintenance)\\n\\nDepot or D-Level maintenance occurs at Aeron Systems Maintenance facility, by Aeron technicians for both MEMS INS and GNSS Antenna and other list of deliverables items.\\n\\n2\\n\\nRESTRICTED\\n\\nThe maintenance activities to be performed all this level will be based on Aeron Systems D- Level Testing and manufacturing equipment.\\n\\nAfter the warranty period, Aeron Systems will propose a D-Level maintenance contract for all repairable modules and systems, and a source for future purchasing of modules, systems etc.\\n\\nMaintenance Level\\n\\nMaintenance Task\\n\\nMaintenance Interval\\n\\nPerformed By\\n\\nO-Level Maintenance\\n\\nFor MEMS INS\\n\\nPreventive/Operational Maintenance\\n\\nDaily or Weekly Armoured\\n\\nCorps operational unit technicians\\n\\nINS Configuration\\n\\nChecking the Alt/Long/Lat data readiness, and system status.\\n\\nEnsure the MEMS INS unit is rigidly mounted on a flat surface.\\n\\nFor GNSS Antenna\\n\\nCheck the Antenna placed in an obstacle location and in the open sky.\\n\\nCorrective Maintenance\\n\\nTroubleshooting failure down to LRU.\\n\\nRemoving a faulty INS unit, GNSS Antenna unit, and harness and replacing it with a serviceable LRU.\\n\\nI-Level Maintenance\\n\\nFor MEMS INS\\n\\nCorrective Maintenance\\n\\nMonthly / Half Yearly\\n\\nArmoured Corps maintenance', metadata={'source': '/home/sooraj/Projects/pdf-chat/Tech_Manual_partII_INS_SAMC.pdf'}), Document(page_content='Corrective Maintenance\\n\\nMonthly / Half Yearly\\n\\nArmoured Corps maintenance\\n\\nTroubleshooting failures\\n\\n3\\n\\nAids and Spare Sets\\n\\nOLTE (QTY TBD)\\n\\nLRUs\\n\\nO-Level Maintenance Documentation\\n\\nILTE (QTY TBD)\\n\\nLRUs\\n\\nMaintenance Level\\n\\nD-Level Maintenance\\n\\nRESTRICTED\\n\\nMaintenance Task\\n\\nMaintenance Interval\\n\\ndown to SRU level\\n\\nReplace the faulty modules (SRU).\\n\\nConfigure and calibrate\\n\\nCorrective Maintenance\\n\\nRepair the MEMS INS with the LRU\\n\\nOn operational condition\\n\\n4\\n\\nPerformed By\\n\\nAids and Spare Sets\\n\\nunit technicians SRU (modules)\\n\\nO-Level Maintenance Documentation\\n\\nAeron’s maintenance technicians\\n\\nLRU\\n\\nMaintenance Documentation\\n\\nRESTRICTED\\n\\nChapter 2 Chapter II - Test Equipment\\n\\nThe OCT-2 NS7300D 01A and GNSS Antenna is designed in a way that no special tools are required to perform the maintenance activities as described in this document but the following equipment are required:\\n\\nPC/laptop with OCT-2 NS7300D 01A ● Aeron Software Utility ● Power Supply ● Respective Cable Set\\n\\nSection 1 Test Equipment\\n\\nO-Level Test Equipment (OLTE)\\n\\nThe unit which is described in this paragraph and this document is identified as:\\n\\nO-Level Test Equipment • OLTE can also be called as Testing Unit (TU).\\n\\nThis OLTE is Aeron Software Utility and is used on any laptop/tablet i.e. enables the Armoured Operational units to perform the maintenance activities without dismounting the MEMS INS & GNSS Antenna from the vehicle.\\n\\nVisual Inspection ● Base Functional Test such as, current consumption, System Health Status ● Initiate the Raw Data to check the data readiness of the OCT-2 NS7300D 01A unit. ● Review the satellite constellation status in GPS View ● Technician’s Review of the actual software and firmware versions.\\n\\nI-Level Test Equipment (ILTE)', metadata={'source': '/home/sooraj/Projects/pdf-chat/Tech_Manual_partII_INS_SAMC.pdf'}), Document(page_content='I-Level Test Equipment (ILTE)\\n\\nThe ILTE is used in maintenance facilities, enables the Armoured Corps maintenance units to perform maintenance activities on vehicles. During the ILTE is connected (over Moxa Uport 1150 & RS422).\\n\\nInitiate a review of the position data of the MEMS INS unit. ● Check the Power supply or check the voltage level of the power source. ● Conduct a visual check of harness bonding and cable cover/conductive tape used for electric connector bonding.\\n\\nReplace any damaged or torn straps. ● Check Corrosion on the INS unit, GNSS antenna connector, or cable harness winding.\\n\\n5\\n\\nRESTRICTED\\n\\nD-Level Test Equipment\\n\\nAeron using manufacturer test and manufacturing equipment.\\n\\nSection 2 Manufacturer Recommended List of Spares (MRLS)\\n\\nThe following list of deliverable items:\\n\\nSr. No.\\n\\nItem Name\\n\\nMaintenance Level\\n\\nQuantity\\n\\n1\\n\\nOCT2-NS7300D-01A INS\\n\\nD level\\n\\nTBD\\n\\n2\\n\\nPower Cable 3 Core for OCT2- NS7300D-01A INS\\n\\nI level\\n\\nTBD\\n\\n3\\n\\n22 Pin Connector Data rugged Cable for OCT2-NS7300D-01A\\n\\nI level/ D level\\n\\nTBD\\n\\n4\\n\\nTNC Male to TNC Male rugged cable harness\\n\\nI level/ D level\\n\\nTBD\\n\\n5\\n\\nTriple band GNSS Antenna\\n\\nD level\\n\\nTBD\\n\\n6\\n\\nMoxa Uport 1150\\n\\nI level\\n\\nTBD\\n\\n6\\n\\nRESTRICTED\\n\\nChapter 3 Chapter III - Fault Diagnosis\\n\\nSection 1 Troubleshooting\\n\\nThis section provides information to assist in troubleshooting if a problem occurs after completing the installation or maintenance. The following table will be used on the I-Level maintenance intervals. When troubleshooting the MEMS INS system, refer to the drawings and User Manual that are retained in the permanent records.\\n\\nSymptom\\n\\nPossible Cause\\n\\nCorrective Action\\n\\nThe Inertial status not showing in the software utility\\n\\nThe INS unit is not powered on.', metadata={'source': '/home/sooraj/Projects/pdf-chat/Tech_Manual_partII_INS_SAMC.pdf'}), Document(page_content='The INS unit is not powered on.\\n\\nCheck the power supply switch of the INS unit. Ensure the power supply 12 pin connector. Increase the input power supply to 28V.\\n\\nThe GNSS does not compute a position\\n\\nNot receiving adequate GNSS signals.\\n\\nCheck the GNSS antenna connections, and make sure the GNSS antenna is clear of obstructions (hangars, buildings, trees, etc.)\\n\\nGNSS signal level drops when vehicles are turned on.\\n\\nNoise interference from other devices\\n\\nTurn off all other devices, then turn on each device of the vehicle one at a time to locate the source of the interference. Route the GNSS connected cable and locate the GNSS antenna away from the unit that is causing the interference.\\n\\nGNSS signal levels are very low\\n\\nImproper antenna installation or routing\\n\\nCheck GNSS antenna installation, connections and cable routing. The GNSS antenna must be mounted on the top of the armoured vehicle.\\n\\nAntenna shaded from satellite signals\\n\\nEnsure that the vehicle is clear of obstructions (hangars, building underground park, trees, etc.)\\n\\nInertial status not showing\\n\\nIncompatible connected Check the INS connections, check\\n\\nany interference cable/device around\\n\\n7\\n\\nRESTRICTED\\n\\nSymptom\\n\\nPossible Cause\\n\\nCorrective Action\\n\\nin software utility display\\n\\nor improper connection\\n\\nthe INS unit.\\n\\nGNSS FIX status not showing on the software utility\\n\\nImproper connection\\n\\nCheck the wire connection between INS unit and GNSS antenna.\\n\\nHealth Status showing Red status\\n\\nINS unit is an incompatible, improper connection, not configured\\n\\nCheck harness connection and INS calibration\\n\\nGNSS FIX red status and also not showing Inertial option\\n\\nGNSS FIX port configured is not selected or calibrated incorrectly\\n\\nCheck the Diagnostic section\\n\\nINS not receiving heading data from external input\\n\\nIncorrect external heading speed input settings\\n\\nCheck the External input speed port setting for the port that the device is connected and verify that the port and data transmitted speed is correct for that port.\\n\\nCable connections are incorrect.\\n\\nThe external heading input need to check the connection and also monitor on the Aeron Software Utility. Refer to section Heading.\\n\\nSection 2 Fault Unit Diagnosis', metadata={'source': '/home/sooraj/Projects/pdf-chat/Tech_Manual_partII_INS_SAMC.pdf'}), Document(page_content='Section 2 Fault Unit Diagnosis\\n\\nAs per the Maintenance Intervals, if the fault unit is found then the I-level Maintenance will deliver the unit to D-Level Maintenance.\\n\\n8\\n\\nRESTRICTED\\n\\nAppendix J1 - Address and contact details\\n\\nAddress\\n\\nAeron Systems Pvt. Ltd.\\n\\nPlot No.7, Lane No. 5, Behind D Mart, Laxman Nagar, Balewadi, Pune-411045, MH, India\\n\\nTel - +91 020-29911228\\n\\nEmail - contact@aeronsystems.com\\n\\nWeb - www.aeronsystems.com\\n\\n9', metadata={'source': '/home/sooraj/Projects/pdf-chat/Tech_Manual_partII_INS_SAMC.pdf'})]\n"
     ]
    }
   ],
   "source": [
    "print(len(doc_splits))\n",
    "print(doc_splits)\n",
    "\n",
    "# print(doc_splits[0].metadata[\"page_number\"])\n",
    "# print(doc_splits[0].metadata[\"file_directory\"])"
   ]
  },
  {
   "cell_type": "code",
   "execution_count": 149,
   "id": "50b22adb-1765-434f-b7eb-5247a2166811",
   "metadata": {
    "tags": []
   },
   "outputs": [
    {
     "name": "stdout",
     "output_type": "stream",
     "text": [
      "**************Setup retriever\n"
     ]
    }
   ],
   "source": [
    "retriever = setup_retriever(doc_splits)"
   ]
  },
  {
   "cell_type": "code",
   "execution_count": 153,
   "id": "92a9db11-e007-421d-8a54-bf32d5a13c25",
   "metadata": {
    "tags": []
   },
   "outputs": [
    {
     "name": "stdout",
     "output_type": "stream",
     "text": [
      "4\n",
      "========================================\n",
      "page_content='Initiate a review of the position data of the MEMS INS unit. ● Check the Power supply or check the voltage level of the power source. ● Conduct a visual check of harness bonding and cable cover/conductive tape used for electric connector bonding.\\n\\nReplace any damaged or torn straps. ● Check Corrosion on the INS unit, GNSS antenna connector, or cable harness winding.\\n\\n5\\n\\nRESTRICTED\\n\\nD-Level Test Equipment\\n\\nAeron using manufacturer test and manufacturing equipment.\\n\\nSection 2 Manufacturer Recommended List of Spares (MRLS)\\n\\nThe following list of deliverable items:\\n\\nSr. No.\\n\\nItem Name\\n\\nMaintenance Level\\n\\nQuantity\\n\\n1\\n\\nOCT2-NS7300D-01A INS\\n\\nD level\\n\\nTBD\\n\\n2\\n\\nPower Cable 3 Core for OCT2- NS7300D-01A INS\\n\\nI level\\n\\nTBD\\n\\n3\\n\\n22 Pin Connector Data rugged Cable for OCT2-NS7300D-01A\\n\\nI level/ D level\\n\\nTBD\\n\\n4\\n\\nTNC Male to TNC Male rugged cable harness\\n\\nI level/ D level\\n\\nTBD\\n\\n5\\n\\nTriple band GNSS Antenna\\n\\nD level\\n\\nTBD\\n\\n6\\n\\nMoxa Uport 1150\\n\\nI level\\n\\nTBD\\n\\n6\\n\\nRESTRICTED\\n\\nChapter 3 Chapter III - Fault Diagnosis\\n\\nSection 1 Troubleshooting\\n\\nThis section provides information to assist in troubleshooting if a problem occurs after completing the installation or maintenance. The following table will be used on the I-Level maintenance intervals. When troubleshooting the MEMS INS system, refer to the drawings and User Manual that are retained in the permanent records.\\n\\nSymptom\\n\\nPossible Cause\\n\\nCorrective Action\\n\\nThe Inertial status not showing in the software utility\\n\\nThe INS unit is not powered on.\\n\\nCheck the power supply switch of the INS unit. Ensure the power supply 12 pin connector. Increase the input power supply to 28V.\\n\\nThe GNSS does not compute a position\\n\\nNot receiving adequate GNSS signals.' metadata={'source': '/home/sooraj/Projects/pdf-chat/Tech_Manual_partII_INS_SAMC.pdf'}\n",
      "=======================================================================\n",
      "page_content='Initiate a review of the position data of the MEMS INS unit. ● Check the Power supply or check the voltage level of the power source. ● Conduct a visual check of harness bonding and cable cover/conductive tape used for electric connector bonding.\\n\\nReplace any damaged or torn straps. ● Check Corrosion on the INS unit, GNSS antenna connector, or cable harness winding.\\n\\n5\\n\\nRESTRICTED\\n\\nD-Level Test Equipment\\n\\nAeron using manufacturer test and manufacturing equipment.\\n\\nSection 2 Manufacturer Recommended List of Spares (MRLS)\\n\\nThe following list of deliverable items:\\n\\nSr. No.\\n\\nItem Name\\n\\nMaintenance Level\\n\\nQuantity\\n\\n1\\n\\nOCT2-NS7300D-01A INS\\n\\nD level\\n\\nTBD\\n\\n2\\n\\nPower Cable 3 Core for OCT2- NS7300D-01A INS\\n\\nI level\\n\\nTBD\\n\\n3\\n\\n22 Pin Connector Data rugged Cable for OCT2-NS7300D-01A\\n\\nI level/ D level\\n\\nTBD\\n\\n4\\n\\nTNC Male to TNC Male rugged cable harness\\n\\nI level/ D level\\n\\nTBD\\n\\n5\\n\\nTriple band GNSS Antenna\\n\\nD level\\n\\nTBD\\n\\n6\\n\\nMoxa Uport 1150\\n\\nI level\\n\\nTBD\\n\\n6\\n\\nRESTRICTED\\n\\nChapter 3 Chapter III - Fault Diagnosis\\n\\nSection 1 Troubleshooting\\n\\nThis section provides information to assist in troubleshooting if a problem occurs after completing the installation or maintenance. The following table will be used on the I-Level maintenance intervals. When troubleshooting the MEMS INS system, refer to the drawings and User Manual that are retained in the permanent records.\\n\\nSymptom\\n\\nPossible Cause\\n\\nCorrective Action\\n\\nThe Inertial status not showing in the software utility\\n\\nThe INS unit is not powered on.\\n\\nCheck the power supply switch of the INS unit. Ensure the power supply 12 pin connector. Increase the input power supply to 28V.\\n\\nThe GNSS does not compute a position\\n\\nNot receiving adequate GNSS signals.' metadata={'source': '/home/sooraj/Projects/pdf-chat/Tech_Manual_partII_INS_SAMC.pdf'}\n",
      "=======================================================================\n",
      "page_content='Symptom\\n\\nPossible Cause\\n\\nCorrective Action\\n\\nThe Inertial status not showing in the software utility\\n\\nThe INS unit is not powered on.\\n\\nCheck the power supply switch of the INS unit. Ensure the power supply 12 pin connector. Increase the input power supply to 28V.\\n\\nThe GNSS does not compute a position\\n\\nNot receiving adequate GNSS signals.\\n\\nCheck the GNSS antenna connections, and make sure the GNSS antenna is clear of obstructions (hangars, buildings, trees, etc.)\\n\\nGNSS signal level drops when vehicles are turned on.\\n\\nNoise interference from other devices\\n\\nTurn off all other devices, then turn on each device of the vehicle one at a time to locate the source of the interference. Route the GNSS connected cable and locate the GNSS antenna away from the unit that is causing the interference.\\n\\nGNSS signal levels are very low\\n\\nImproper antenna installation or routing\\n\\nCheck GNSS antenna installation, connections and cable routing. The GNSS antenna must be mounted on the top of the armoured vehicle.\\n\\nAntenna shaded from satellite signals\\n\\nEnsure that the vehicle is clear of obstructions (hangars, building underground park, trees, etc.)\\n\\nInertial status not showing\\n\\nIncompatible connected Check the INS connections, check\\n\\nany interference cable/device around\\n\\n7\\n\\nRESTRICTED\\n\\nSymptom\\n\\nPossible Cause\\n\\nCorrective Action\\n\\nin software utility display\\n\\nor improper connection\\n\\nthe INS unit.\\n\\nGNSS FIX status not showing on the software utility\\n\\nImproper connection\\n\\nCheck the wire connection between INS unit and GNSS antenna.\\n\\nHealth Status showing Red status\\n\\nINS unit is an incompatible, improper connection, not configured\\n\\nCheck harness connection and INS calibration\\n\\nGNSS FIX red status and also not showing Inertial option\\n\\nGNSS FIX port configured is not selected or calibrated incorrectly\\n\\nCheck the Diagnostic section\\n\\nINS not receiving heading data from external input\\n\\nIncorrect external heading speed input settings\\n\\nCheck the External input speed port setting for the port that the device is connected and verify that the port and data transmitted speed is correct for that port.\\n\\nCable connections are incorrect.' metadata={'source': '/home/sooraj/Projects/pdf-chat/Tech_Manual_partII_INS_SAMC.pdf'}\n",
      "=======================================================================\n",
      "page_content='Symptom\\n\\nPossible Cause\\n\\nCorrective Action\\n\\nThe Inertial status not showing in the software utility\\n\\nThe INS unit is not powered on.\\n\\nCheck the power supply switch of the INS unit. Ensure the power supply 12 pin connector. Increase the input power supply to 28V.\\n\\nThe GNSS does not compute a position\\n\\nNot receiving adequate GNSS signals.\\n\\nCheck the GNSS antenna connections, and make sure the GNSS antenna is clear of obstructions (hangars, buildings, trees, etc.)\\n\\nGNSS signal level drops when vehicles are turned on.\\n\\nNoise interference from other devices\\n\\nTurn off all other devices, then turn on each device of the vehicle one at a time to locate the source of the interference. Route the GNSS connected cable and locate the GNSS antenna away from the unit that is causing the interference.\\n\\nGNSS signal levels are very low\\n\\nImproper antenna installation or routing\\n\\nCheck GNSS antenna installation, connections and cable routing. The GNSS antenna must be mounted on the top of the armoured vehicle.\\n\\nAntenna shaded from satellite signals\\n\\nEnsure that the vehicle is clear of obstructions (hangars, building underground park, trees, etc.)\\n\\nInertial status not showing\\n\\nIncompatible connected Check the INS connections, check\\n\\nany interference cable/device around\\n\\n7\\n\\nRESTRICTED\\n\\nSymptom\\n\\nPossible Cause\\n\\nCorrective Action\\n\\nin software utility display\\n\\nor improper connection\\n\\nthe INS unit.\\n\\nGNSS FIX status not showing on the software utility\\n\\nImproper connection\\n\\nCheck the wire connection between INS unit and GNSS antenna.\\n\\nHealth Status showing Red status\\n\\nINS unit is an incompatible, improper connection, not configured\\n\\nCheck harness connection and INS calibration\\n\\nGNSS FIX red status and also not showing Inertial option\\n\\nGNSS FIX port configured is not selected or calibrated incorrectly\\n\\nCheck the Diagnostic section\\n\\nINS not receiving heading data from external input\\n\\nIncorrect external heading speed input settings\\n\\nCheck the External input speed port setting for the port that the device is connected and verify that the port and data transmitted speed is correct for that port.\\n\\nCable connections are incorrect.' metadata={'source': '/home/sooraj/Projects/pdf-chat/Tech_Manual_partII_INS_SAMC.pdf'}\n",
      "=======================================================================\n"
     ]
    }
   ],
   "source": [
    "question = 'What are the problems that can occur after installation for an ins. Give the output in a table format with symptom, Possible cause and corrective action'\n",
    "\n",
    "documents = retriever.invoke(question)\n",
    "\n",
    "print(len(documents))\n",
    "print(\"========================================\")\n",
    "for doc in documents:\n",
    "    print(doc)\n",
    "    print(\"=======================================================================\")"
   ]
  }
 ],
 "metadata": {
  "kernelspec": {
   "display_name": "Python 3 (ipykernel)",
   "language": "python",
   "name": "python3"
  },
  "language_info": {
   "codemirror_mode": {
    "name": "ipython",
    "version": 3
   },
   "file_extension": ".py",
   "mimetype": "text/x-python",
   "name": "python",
   "nbconvert_exporter": "python",
   "pygments_lexer": "ipython3",
   "version": "3.11.7"
  }
 },
 "nbformat": 4,
 "nbformat_minor": 5
}
